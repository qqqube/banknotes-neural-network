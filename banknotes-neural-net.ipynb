{
 "cells": [
  {
   "cell_type": "code",
   "execution_count": 66,
   "metadata": {},
   "outputs": [],
   "source": [
    "import numpy as np\n",
    "from numpy import genfromtxt\n",
    "import torch\n",
    "import torch.nn as nn\n",
    "import torch.nn.functional as F\n",
    "import sklearn.model_selection as sklearn\n",
    "import torch.optim as optim"
   ]
  },
  {
   "cell_type": "markdown",
   "metadata": {},
   "source": [
    "Load in the dataset. The 5 columns are `variance`, `skewness`, `curtosis`, `entropy`, and `class`."
   ]
  },
  {
   "cell_type": "code",
   "execution_count": 241,
   "metadata": {},
   "outputs": [],
   "source": [
    "banknotes = genfromtxt('banknote_auth.csv', delimiter=',')\n",
    "banknotes = banknotes[1:]"
   ]
  },
  {
   "cell_type": "code",
   "execution_count": 242,
   "metadata": {},
   "outputs": [],
   "source": [
    "np.random.shuffle(banknotes)\n",
    "features = banknotes[:, 0:4]\n",
    "classification = banknotes[:, 4]\n",
    "classify = torch.Tensor(classification)\n",
    "training_set = torch.utils.data.DataLoader(features, batch_size=8)"
   ]
  },
  {
   "cell_type": "code",
   "execution_count": 243,
   "metadata": {},
   "outputs": [],
   "source": [
    "class Net(nn.Module):\n",
    "    def __init__(self):\n",
    "        super().__init__()\n",
    "        self.fc1 = nn.Linear(4, 10)\n",
    "        self.fc2 = nn.Linear(10, 10)\n",
    "        self.fc3 = nn.Linear(10, 10)\n",
    "        self.fc4 = nn.Linear(10, 10)\n",
    "        self.fc5 = nn.Linear(10, 10)\n",
    "        self.fc6 = nn.Linear(10, 10)\n",
    "        self.fc7 = nn.Linear(10, 10)\n",
    "        self.fc8 = nn.Linear(10, 10)\n",
    "        self.fc9 = nn.Linear(10, 2)\n",
    "    def forward(self, x):\n",
    "        x = F.relu(self.fc1(x))\n",
    "        x = F.relu(self.fc2(x))\n",
    "        x = torch.tanh(self.fc3(x))\n",
    "        x = torch.tanh(self.fc4(x))\n",
    "        x = torch.tanh(self.fc5(x))\n",
    "        x = torch.tanh(self.fc6(x))\n",
    "        x = F.relu(self.fc7(x))\n",
    "        x = F.relu(self.fc8(x))\n",
    "        x = self.fc9(x)\n",
    "        return F.log_softmax(x, dim=1)"
   ]
  },
  {
   "cell_type": "code",
   "execution_count": 244,
   "metadata": {
    "collapsed": true
   },
   "outputs": [],
   "source": [
    "net = Net()\n",
    "optimizer = optim.Adam(net.parameters(), lr=0.001)"
   ]
  },
  {
   "cell_type": "code",
   "execution_count": 245,
   "metadata": {},
   "outputs": [
    {
     "name": "stdout",
     "output_type": "stream",
     "text": [
      "tensor(0.0363, grad_fn=<NllLossBackward>)\n",
      "tensor(0.0029, grad_fn=<NllLossBackward>)\n",
      "tensor(0.0010, grad_fn=<NllLossBackward>)\n"
     ]
    }
   ],
   "source": [
    "EPOCHS = 3\n",
    "\n",
    "for epoch in range(EPOCHS):\n",
    "    counter = 0\n",
    "    loss = 0\n",
    "    for X in training_set:\n",
    "        #data is a batch of feature sets and labels\n",
    "        #everytime you pass data through network, call net.zero_grad()\n",
    "        net.zero_grad()\n",
    "        output = net(X.view(-1, 4).float())\n",
    "  \n",
    "        loss = F.nll_loss(output, classify[counter:counter+8].long()) # negative log likelihood loss\n",
    "        loss.backward() #backpropogate \n",
    "        optimizer.step() # adjusts weights for us\n",
    "        counter += 8\n",
    "    print(loss)"
   ]
  },
  {
   "cell_type": "code",
   "execution_count": 246,
   "metadata": {},
   "outputs": [
    {
     "name": "stdout",
     "output_type": "stream",
     "text": [
      "Training Error:  0.0\n"
     ]
    }
   ],
   "source": [
    "correct = 0\n",
    "total = 0\n",
    "\n",
    "with torch.no_grad(): #don't calculate gradients\n",
    "    counter = 0\n",
    "    for X in training_set:\n",
    "        output = net(X.view(-1, 4).float())\n",
    "        true_values = classify[counter:counter + 8].long()\n",
    "        for idx, i in enumerate(output):\n",
    "            if torch.argmax(i) == true_values[idx]:\n",
    "                correct += 1\n",
    "            total += 1\n",
    "        counter += 8\n",
    "            \n",
    "print(\"Training Error: \", round((total - correct)/total, 3))"
   ]
  },
  {
   "cell_type": "markdown",
   "metadata": {},
   "source": [
    "Perform K-Folds Cross Validation"
   ]
  },
  {
   "cell_type": "code",
   "execution_count": 247,
   "metadata": {},
   "outputs": [
    {
     "name": "stdout",
     "output_type": "stream",
     "text": [
      "[0.014545454545454545, 0.01090909090909091, 0.01824817518248175, 0.043795620437956206, 0.040145985401459854]\n",
      "Validation Error: 0.025528865295288656\n"
     ]
    }
   ],
   "source": [
    "validation_errors = []\n",
    "kf = sklearn.KFold(n_splits =5)\n",
    "\n",
    "np.random.shuffle(banknotes)\n",
    "features = banknotes[:, 0:4]\n",
    "classification = banknotes[:, 4]\n",
    "\n",
    "for train_index, test_index in kf.split(features):\n",
    "\n",
    "    X_train, X_test = features[train_index], features[test_index]\n",
    "    y_train, y_test = classification[train_index], classification[test_index]\n",
    "    \n",
    "    net = Net()\n",
    "    optimizer = optim.Adam(net.parameters(), lr=0.001)\n",
    "    \n",
    "    classify_train = torch.Tensor(y_train)\n",
    "    training_set = torch.utils.data.DataLoader(X_train, batch_size=8)\n",
    "    \n",
    "    counter = 0\n",
    "    for X in training_set:\n",
    "        net.zero_grad()\n",
    "        output = net(X.view(-1, 4).float())\n",
    "  \n",
    "        loss = F.nll_loss(output, classify_train[counter:counter+8].long())\n",
    "        loss.backward()\n",
    "        optimizer.step() \n",
    "        counter += 8\n",
    "    \n",
    "    val_training_set = torch.utils.data.DataLoader(X_test, batch_size=8)\n",
    "    classify_test = torch.Tensor(y_test)\n",
    "    with torch.no_grad(): #don't calculate gradients\n",
    "        counter = 0\n",
    "        total = 0\n",
    "        correct = 0\n",
    "        for X in val_training_set:\n",
    "            output = net(X.view(-1, 4).float())\n",
    "            true_values = classify_test[counter:counter + 8].long()\n",
    "            for idx, i in enumerate(output):\n",
    "                if torch.argmax(i) == true_values[idx]:\n",
    "                    correct += 1\n",
    "                total += 1\n",
    "            counter += 8\n",
    "        validation_errors.append((total - correct) / total)\n",
    "    \n",
    "print(validation_errors)\n",
    "print(\"Validation Error: \" + str(sum(validation_errors)/len(validation_errors)))    "
   ]
  },
  {
   "cell_type": "code",
   "execution_count": null,
   "metadata": {
    "collapsed": true
   },
   "outputs": [],
   "source": []
  }
 ],
 "metadata": {
  "kernelspec": {
   "display_name": "Python 3",
   "language": "python",
   "name": "python3"
  },
  "language_info": {
   "codemirror_mode": {
    "name": "ipython",
    "version": 3
   },
   "file_extension": ".py",
   "mimetype": "text/x-python",
   "name": "python",
   "nbconvert_exporter": "python",
   "pygments_lexer": "ipython3",
   "version": "3.6.7"
  }
 },
 "nbformat": 4,
 "nbformat_minor": 2
}
